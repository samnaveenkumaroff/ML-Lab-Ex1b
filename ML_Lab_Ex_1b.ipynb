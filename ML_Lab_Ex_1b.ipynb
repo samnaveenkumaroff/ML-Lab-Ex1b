{
  "nbformat": 4,
  "nbformat_minor": 0,
  "metadata": {
    "colab": {
      "provenance": []
    },
    "kernelspec": {
      "name": "python3",
      "display_name": "Python 3"
    },
    "language_info": {
      "name": "python"
    }
  },
  "cells": [
    {
      "cell_type": "code",
      "source": [
        "# AIM\n",
        "# To prepare the data suitable for the machine learning model, perform data cleaning, data\n",
        "# reduction and data transformation on the given dataset using python implementation."
      ],
      "metadata": {
        "id": "n6tCHvu95o4d"
      },
      "execution_count": null,
      "outputs": []
    },
    {
      "cell_type": "code",
      "source": [
        "# DESCRIPTION\n",
        "# Data preprocessing is a process of preparing the raw data and making it suitable for a machine\n",
        "# learning model.\n",
        "#  Data cleaning can be applied to “clean” the data by filling in missing values,\n",
        "#  smoothing noisy data, identifying or removing outliers, and resolving inconsistencies.\n",
        "#  Data reduction can reduce data size by, for instance, aggregating, eliminating\n",
        "#  redundant features, or clustering.\n",
        "#  Data transformations (e.g., normalization) may be applied, where data are scaled to\n",
        "#  fall within a smaller range like 0.0 to 1.0."
      ],
      "metadata": {
        "id": "gEGTZTuL5zXW"
      },
      "execution_count": null,
      "outputs": []
    },
    {
      "cell_type": "code",
      "source": [
        "# DATA CLEANING\n",
        "# Data cleaning is the process of removing incorrect, corrupted, garbage, incorrectly formatted,\n",
        "# duplicate, or incomplete data within a dataset. Having wrong or bad quality data can be\n",
        "# detrimental to processes and analysis.\n",
        "#  Check for Missing Values\n",
        "# o Data imputation - attribute with 10% missing\n",
        "# o Replace NaN with a Scalar Value (mean, median, mode, random, KNN etc.)\n",
        "#  Check for Duplicates\n",
        "#  Detect Outliers"
      ],
      "metadata": {
        "id": "6toZvaDB52QD"
      },
      "execution_count": null,
      "outputs": []
    },
    {
      "cell_type": "code",
      "source": [
        "# DATA REDUCTION:\n",
        "# Data reduction techniques can be applied to obtain a reduced representation of the data set\n",
        "# that is much smaller in volume, yet closely maintains the integrity of the original data.\n",
        "#  Dimensionality reduction, numerosity reduction, data compression.\n",
        "#  Feature selection and Feature extraction\n",
        "#  Drop missing values\n",
        "#  Drop the outliers\n",
        "#  Drop duplicates"
      ],
      "metadata": {
        "id": "qSxLTydp56bO"
      },
      "execution_count": null,
      "outputs": []
    },
    {
      "cell_type": "code",
      "source": [
        "# DATA TRANSFORMATION:\n",
        "# Data transformation is a technique used to convert the raw data into a suitable format.\n",
        "\n",
        "#  Normalization - Data normalization involves converting all data variable into a given\n",
        "# range.\n",
        "# o Min-max - This method implements a linear transformation on the original\n",
        "# Data\n",
        "# o Z-score – This method normalizes the value using the mean and standard\n",
        "# deviation\n",
        "#  Encoding method - convert the categorical features into its numeric representation.\n",
        "# o Label encoding - each label is assigned a unique integer based on alphabetical\n",
        "# o ordering between 0 and n_classes-1 where n is the number of distinct labels.\n",
        "# o One-Hot encoding - creates additional features based on the number of unique\n",
        "# o values in the categorical feature, create dummy variables."
      ],
      "metadata": {
        "id": "x8FWXXC3591E"
      },
      "execution_count": null,
      "outputs": []
    },
    {
      "cell_type": "code",
      "source": [
        "# 1. Calculate the % of missing values in a column (URK22AI1043)\n",
        "import pandas as pd\n",
        "\n",
        "# Load the dataset\n",
        "df = pd.read_csv('insurance.csv')\n",
        "\n",
        "def calculate_missing_percentage(df, column_name):\n",
        "    missing_percentage = df[column_name].isnull().mean() * 100\n",
        "    return missing_percentage\n",
        "\n",
        "# Example usage\n",
        "print(calculate_missing_percentage(df, 'bmi'))"
      ],
      "metadata": {
        "colab": {
          "base_uri": "https://localhost:8080/"
        },
        "id": "AQLPf6HF46V4",
        "outputId": "d3df1672-9dbc-49a2-d549-8248a8cef0ed"
      },
      "execution_count": 16,
      "outputs": [
        {
          "output_type": "stream",
          "name": "stdout",
          "text": [
            "0.0\n"
          ]
        }
      ]
    },
    {
      "cell_type": "code",
      "execution_count": 15,
      "metadata": {
        "colab": {
          "base_uri": "https://localhost:8080/"
        },
        "id": "vwByZJfQ3xQH",
        "outputId": "54fbdfc2-f35f-4ec1-a56e-165de5caa163"
      },
      "outputs": [
        {
          "output_type": "stream",
          "name": "stdout",
          "text": [
            "0       0.321227\n",
            "1       0.479150\n",
            "2       0.458434\n",
            "3       0.181464\n",
            "4       0.347592\n",
            "          ...   \n",
            "1333    0.403820\n",
            "1334    0.429379\n",
            "1335    0.562012\n",
            "1336    0.264730\n",
            "1337    0.352704\n",
            "Name: bmi, Length: 1338, dtype: float64\n"
          ]
        }
      ],
      "source": [
        "# 2. Replace missing value with mean if the % of missing value is less than 10% (URK22AI1043)\n",
        "def replace_missing_with_mean(df, column_name):\n",
        "    missing_percentage = df[column_name].isnull().mean() * 100\n",
        "    if missing_percentage < 10:\n",
        "        df[column_name].fillna(df[column_name].mean(), inplace=True)\n",
        "    return df\n",
        "\n",
        "# Example usage\n",
        "df = replace_missing_with_mean(df, 'bmi')\n",
        "print(df['bmi'])"
      ]
    },
    {
      "cell_type": "code",
      "source": [
        "# 3. Perform the mode imputation for a categorical data (URK22AI1043)\n",
        "def mode_imputation(df, column_name):\n",
        "    mode_value = df[column_name].mode()[0]\n",
        "    df[column_name].fillna(mode_value, inplace=True)\n",
        "    return df\n",
        "\n",
        "# Example usage\n",
        "df = mode_imputation(df, 'region')\n",
        "print(df['region'])"
      ],
      "metadata": {
        "colab": {
          "base_uri": "https://localhost:8080/"
        },
        "id": "SmOj0tNt38NB",
        "outputId": "b91a265f-c277-43d8-f116-e58f92190129"
      },
      "execution_count": 17,
      "outputs": [
        {
          "output_type": "stream",
          "name": "stdout",
          "text": [
            "0       southwest\n",
            "1       southeast\n",
            "2       southeast\n",
            "3       northwest\n",
            "4       northwest\n",
            "          ...    \n",
            "1333    northwest\n",
            "1334    northeast\n",
            "1335    southeast\n",
            "1336    southwest\n",
            "1337    northwest\n",
            "Name: region, Length: 1338, dtype: object\n"
          ]
        }
      ]
    },
    {
      "cell_type": "code",
      "source": [
        "# 4. Perform a KNN Imputer to estimate the missing values (URK22AI1043)\n",
        "from sklearn.impute import KNNImputer\n",
        "\n",
        "def knn_imputer(df, n_neighbors=5):\n",
        "    imputer = KNNImputer(n_neighbors=n_neighbors)\n",
        "    df_imputed = pd.DataFrame(imputer.fit_transform(df.select_dtypes(include=[float, int])), columns=df.select_dtypes(include=[float, int]).columns)\n",
        "    df[df_imputed.columns] = df_imputed\n",
        "    return df\n",
        "\n",
        "# Example usage\n",
        "df = knn_imputer(df)\n",
        "print(df)"
      ],
      "metadata": {
        "colab": {
          "base_uri": "https://localhost:8080/"
        },
        "id": "QOFn0Gk04JU8",
        "outputId": "471f9140-1a9b-4255-dec5-a5efc90d5479"
      },
      "execution_count": 18,
      "outputs": [
        {
          "output_type": "stream",
          "name": "stdout",
          "text": [
            "       age     sex     bmi  children smoker     region      charges\n",
            "0     19.0  female  27.900       0.0    yes  southwest  16884.92400\n",
            "1     18.0    male  33.770       1.0     no  southeast   1725.55230\n",
            "2     28.0    male  33.000       3.0     no  southeast   4449.46200\n",
            "3     33.0    male  22.705       0.0     no  northwest  21984.47061\n",
            "4     32.0    male  28.880       0.0     no  northwest   3866.85520\n",
            "...    ...     ...     ...       ...    ...        ...          ...\n",
            "1333  50.0    male  30.970       3.0     no  northwest  10600.54830\n",
            "1334  18.0  female  31.920       0.0     no  northeast   2205.98080\n",
            "1335  18.0  female  36.850       0.0     no  southeast   1629.83350\n",
            "1336  21.0  female  25.800       0.0     no  southwest   2007.94500\n",
            "1337  61.0  female  29.070       0.0    yes  northwest  29141.36030\n",
            "\n",
            "[1338 rows x 7 columns]\n"
          ]
        }
      ]
    },
    {
      "cell_type": "code",
      "source": [
        "# 5. Drop the columns with more than 10% missing values and display the size (URK22AI1043)\n",
        "def drop_columns_with_missing_values(df, threshold=10):\n",
        "    threshold_percentage = threshold / 100\n",
        "    df_dropped = df.loc[:, df.isnull().mean() <= threshold_percentage]\n",
        "    return df_dropped\n",
        "\n",
        "# Example usage\n",
        "df_dropped = drop_columns_with_missing_values(df)\n",
        "print(df_dropped.shape)\n",
        "print(df_dropped)"
      ],
      "metadata": {
        "colab": {
          "base_uri": "https://localhost:8080/"
        },
        "id": "CQe_utn34M40",
        "outputId": "051ad086-2e00-4ccd-db45-6985c8a15b13"
      },
      "execution_count": 19,
      "outputs": [
        {
          "output_type": "stream",
          "name": "stdout",
          "text": [
            "(1338, 7)\n",
            "       age     sex     bmi  children smoker     region      charges\n",
            "0     19.0  female  27.900       0.0    yes  southwest  16884.92400\n",
            "1     18.0    male  33.770       1.0     no  southeast   1725.55230\n",
            "2     28.0    male  33.000       3.0     no  southeast   4449.46200\n",
            "3     33.0    male  22.705       0.0     no  northwest  21984.47061\n",
            "4     32.0    male  28.880       0.0     no  northwest   3866.85520\n",
            "...    ...     ...     ...       ...    ...        ...          ...\n",
            "1333  50.0    male  30.970       3.0     no  northwest  10600.54830\n",
            "1334  18.0  female  31.920       0.0     no  northeast   2205.98080\n",
            "1335  18.0  female  36.850       0.0     no  southeast   1629.83350\n",
            "1336  21.0  female  25.800       0.0     no  southwest   2007.94500\n",
            "1337  61.0  female  29.070       0.0    yes  northwest  29141.36030\n",
            "\n",
            "[1338 rows x 7 columns]\n"
          ]
        }
      ]
    },
    {
      "cell_type": "code",
      "source": [
        "# 6. Drop the rows with outlier Z-score value > 3 and display the size (URK22AI1043)\n",
        "from scipy.stats import zscore\n",
        "\n",
        "def drop_outliers(df):\n",
        "    z_scores = zscore(df.select_dtypes(include=[float, int]))\n",
        "    abs_z_scores = abs(z_scores)\n",
        "    filtered_entries = (abs_z_scores < 3).all(axis=1)\n",
        "    df_outliers_removed = df[filtered_entries]\n",
        "    return df_outliers_removed\n",
        "\n",
        "# Example usage\n",
        "df_outliers_removed = drop_outliers(df)\n",
        "print(df_outliers_removed.shape)\n",
        "print(df_outliers_removed)"
      ],
      "metadata": {
        "colab": {
          "base_uri": "https://localhost:8080/"
        },
        "id": "kWopKbvR4Pzz",
        "outputId": "c1734702-452a-4fa3-f053-6081571cb8df"
      },
      "execution_count": 20,
      "outputs": [
        {
          "output_type": "stream",
          "name": "stdout",
          "text": [
            "(1309, 7)\n",
            "       age     sex     bmi  children smoker     region      charges\n",
            "0     19.0  female  27.900       0.0    yes  southwest  16884.92400\n",
            "1     18.0    male  33.770       1.0     no  southeast   1725.55230\n",
            "2     28.0    male  33.000       3.0     no  southeast   4449.46200\n",
            "3     33.0    male  22.705       0.0     no  northwest  21984.47061\n",
            "4     32.0    male  28.880       0.0     no  northwest   3866.85520\n",
            "...    ...     ...     ...       ...    ...        ...          ...\n",
            "1333  50.0    male  30.970       3.0     no  northwest  10600.54830\n",
            "1334  18.0  female  31.920       0.0     no  northeast   2205.98080\n",
            "1335  18.0  female  36.850       0.0     no  southeast   1629.83350\n",
            "1336  21.0  female  25.800       0.0     no  southwest   2007.94500\n",
            "1337  61.0  female  29.070       0.0    yes  northwest  29141.36030\n",
            "\n",
            "[1309 rows x 7 columns]\n"
          ]
        }
      ]
    },
    {
      "cell_type": "code",
      "source": [
        "# 7. Drop the duplicate rows based on more than 50% of columns having the same value (URK22AI1043)\n",
        "def drop_custom_duplicates(df, threshold=0.5):\n",
        "    num_columns = df.shape[1]\n",
        "    threshold_count = int(threshold * num_columns)\n",
        "\n",
        "    mask = df.apply(lambda row: (row == row.mode()[0]).sum() > threshold_count, axis=1)\n",
        "\n",
        "    df_dropped_duplicates = df[~mask]\n",
        "    return df_dropped_duplicates\n",
        "\n",
        "# Example usage\n",
        "df_dropped_duplicates = drop_custom_duplicates(df)\n",
        "print(df_dropped_duplicates.shape)\n",
        "print(df_dropped_duplicates)"
      ],
      "metadata": {
        "colab": {
          "base_uri": "https://localhost:8080/"
        },
        "id": "XQ9ervry4pid",
        "outputId": "550b489f-58f8-41ce-bbac-df05b99a203d"
      },
      "execution_count": 21,
      "outputs": [
        {
          "output_type": "stream",
          "name": "stdout",
          "text": [
            "(1338, 7)\n",
            "       age     sex     bmi  children smoker     region      charges\n",
            "0     19.0  female  27.900       0.0    yes  southwest  16884.92400\n",
            "1     18.0    male  33.770       1.0     no  southeast   1725.55230\n",
            "2     28.0    male  33.000       3.0     no  southeast   4449.46200\n",
            "3     33.0    male  22.705       0.0     no  northwest  21984.47061\n",
            "4     32.0    male  28.880       0.0     no  northwest   3866.85520\n",
            "...    ...     ...     ...       ...    ...        ...          ...\n",
            "1333  50.0    male  30.970       3.0     no  northwest  10600.54830\n",
            "1334  18.0  female  31.920       0.0     no  northeast   2205.98080\n",
            "1335  18.0  female  36.850       0.0     no  southeast   1629.83350\n",
            "1336  21.0  female  25.800       0.0     no  southwest   2007.94500\n",
            "1337  61.0  female  29.070       0.0    yes  northwest  29141.36030\n",
            "\n",
            "[1338 rows x 7 columns]\n"
          ]
        },
        {
          "output_type": "stream",
          "name": "stderr",
          "text": [
            "<ipython-input-21-7faaad7c0964>:6: UserWarning: Unable to sort modes: '<' not supported between instances of 'str' and 'float'\n",
            "  mask = df.apply(lambda row: (row == row.mode()[0]).sum() > threshold_count, axis=1)\n"
          ]
        }
      ]
    },
    {
      "cell_type": "code",
      "source": [
        "# 8. Rescale your data using min-max normalization for a numerical feature (URK22AI1043)\n",
        "from sklearn.preprocessing import MinMaxScaler\n",
        "\n",
        "def min_max_normalization(df, column_name):\n",
        "    scaler = MinMaxScaler()\n",
        "    df[[column_name]] = scaler.fit_transform(df[[column_name]])\n",
        "    return df\n",
        "\n",
        "# Example usage\n",
        "df = min_max_normalization(df, 'bmi')\n",
        "print(df['bmi'])"
      ],
      "metadata": {
        "colab": {
          "base_uri": "https://localhost:8080/"
        },
        "id": "FbMXM3zr4sVG",
        "outputId": "f92dd8a4-a08b-4de4-82f8-cd938a4e7756"
      },
      "execution_count": 22,
      "outputs": [
        {
          "output_type": "stream",
          "name": "stdout",
          "text": [
            "0       0.321227\n",
            "1       0.479150\n",
            "2       0.458434\n",
            "3       0.181464\n",
            "4       0.347592\n",
            "          ...   \n",
            "1333    0.403820\n",
            "1334    0.429379\n",
            "1335    0.562012\n",
            "1336    0.264730\n",
            "1337    0.352704\n",
            "Name: bmi, Length: 1338, dtype: float64\n"
          ]
        }
      ]
    },
    {
      "cell_type": "code",
      "source": [
        "# 9. Binarize the data by using binarizer class in Python (URK22AI1043)\n",
        "from sklearn.preprocessing import Binarizer\n",
        "\n",
        "def binarize_data(df, column_name, threshold=0.5):\n",
        "    binarizer = Binarizer(threshold=threshold)\n",
        "    df[[column_name]] = binarizer.fit_transform(df[[column_name]])\n",
        "    return df\n",
        "\n",
        "# Example usage\n",
        "df = binarize_data(df, 'bmi', threshold=30)\n",
        "print(df['bmi'])"
      ],
      "metadata": {
        "colab": {
          "base_uri": "https://localhost:8080/"
        },
        "id": "mxsQvX4J4vw_",
        "outputId": "7f30fb92-c939-4559-bc4a-3b2d888fba93"
      },
      "execution_count": 23,
      "outputs": [
        {
          "output_type": "stream",
          "name": "stdout",
          "text": [
            "0       0.0\n",
            "1       0.0\n",
            "2       0.0\n",
            "3       0.0\n",
            "4       0.0\n",
            "       ... \n",
            "1333    0.0\n",
            "1334    0.0\n",
            "1335    0.0\n",
            "1336    0.0\n",
            "1337    0.0\n",
            "Name: bmi, Length: 1338, dtype: float64\n"
          ]
        }
      ]
    },
    {
      "cell_type": "code",
      "source": [
        "# 10. Perform the one-hot encoding for a categorical feature (URK22AI1043)\n",
        "def one_hot_encoding(df, column_name):\n",
        "    df_encoded = pd.get_dummies(df, columns=[column_name])\n",
        "    return df_encoded\n",
        "\n",
        "# Example usage\n",
        "df = one_hot_encoding(df, 'region')\n",
        "print(df)"
      ],
      "metadata": {
        "colab": {
          "base_uri": "https://localhost:8080/"
        },
        "id": "UpC9nPRt5fCf",
        "outputId": "6f1af007-98e9-46f2-ecad-afff9f9dac74"
      },
      "execution_count": 24,
      "outputs": [
        {
          "output_type": "stream",
          "name": "stdout",
          "text": [
            "       age     sex  bmi  children smoker      charges  region_northeast  \\\n",
            "0     19.0  female  0.0       0.0    yes  16884.92400             False   \n",
            "1     18.0    male  0.0       1.0     no   1725.55230             False   \n",
            "2     28.0    male  0.0       3.0     no   4449.46200             False   \n",
            "3     33.0    male  0.0       0.0     no  21984.47061             False   \n",
            "4     32.0    male  0.0       0.0     no   3866.85520             False   \n",
            "...    ...     ...  ...       ...    ...          ...               ...   \n",
            "1333  50.0    male  0.0       3.0     no  10600.54830             False   \n",
            "1334  18.0  female  0.0       0.0     no   2205.98080              True   \n",
            "1335  18.0  female  0.0       0.0     no   1629.83350             False   \n",
            "1336  21.0  female  0.0       0.0     no   2007.94500             False   \n",
            "1337  61.0  female  0.0       0.0    yes  29141.36030             False   \n",
            "\n",
            "      region_northwest  region_southeast  region_southwest  \n",
            "0                False             False              True  \n",
            "1                False              True             False  \n",
            "2                False              True             False  \n",
            "3                 True             False             False  \n",
            "4                 True             False             False  \n",
            "...                ...               ...               ...  \n",
            "1333              True             False             False  \n",
            "1334             False             False             False  \n",
            "1335             False              True             False  \n",
            "1336             False             False              True  \n",
            "1337              True             False             False  \n",
            "\n",
            "[1338 rows x 10 columns]\n"
          ]
        }
      ]
    },
    {
      "cell_type": "code",
      "source": [
        "#Crafted With Love By Sam Naveenkumar .V"
      ],
      "metadata": {
        "id": "CVO9u4DZ5iNJ"
      },
      "execution_count": null,
      "outputs": []
    }
  ]
}